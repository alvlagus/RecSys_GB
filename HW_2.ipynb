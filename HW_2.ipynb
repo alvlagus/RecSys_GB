{
 "cells": [
  {
   "cell_type": "code",
   "execution_count": 1,
   "metadata": {},
   "outputs": [],
   "source": [
    "# !pip install implicit"
   ]
  },
  {
   "cell_type": "markdown",
   "metadata": {},
   "source": [
    " Downloading implicit-0.6.1-cp39-cp39-manylinux2014_x86_64.whl (18.6 MB)"
   ]
  },
  {
   "cell_type": "code",
   "execution_count": 2,
   "metadata": {
    "colab": {},
    "colab_type": "code",
    "id": "rgIzW-DSC8Yi"
   },
   "outputs": [],
   "source": [
    "import pandas as pd\n",
    "import numpy as np\n",
    "import matplotlib.pyplot as plt\n",
    "%matplotlib inline\n",
    "\n",
    "# Для работы с матрицами\n",
    "from scipy.sparse import csr_matrix, coo_matrix\n",
    "\n",
    "# Детерминированные алгоритмы\n",
    "from implicit.nearest_neighbours import ItemItemRecommender, CosineRecommender, TFIDFRecommender, BM25Recommender\n",
    "\n",
    "# Метрики\n",
    "from implicit.evaluation import train_test_split\n",
    "from implicit.evaluation import precision_at_k, mean_average_precision_at_k, AUC_at_k, ndcg_at_k"
   ]
  },
  {
   "cell_type": "code",
   "execution_count": 3,
   "metadata": {
    "colab": {},
    "colab_type": "code",
    "id": "9qFkcgyrC8Yt",
    "outputId": "24a33bf1-942a-4b18-c54a-a7500c8f8712"
   },
   "outputs": [
    {
     "data": {
      "text/html": [
       "<div>\n",
       "<style scoped>\n",
       "    .dataframe tbody tr th:only-of-type {\n",
       "        vertical-align: middle;\n",
       "    }\n",
       "\n",
       "    .dataframe tbody tr th {\n",
       "        vertical-align: top;\n",
       "    }\n",
       "\n",
       "    .dataframe thead th {\n",
       "        text-align: right;\n",
       "    }\n",
       "</style>\n",
       "<table border=\"1\" class=\"dataframe\">\n",
       "  <thead>\n",
       "    <tr style=\"text-align: right;\">\n",
       "      <th></th>\n",
       "      <th>user_id</th>\n",
       "      <th>basket_id</th>\n",
       "      <th>day</th>\n",
       "      <th>item_id</th>\n",
       "      <th>quantity</th>\n",
       "      <th>sales_value</th>\n",
       "      <th>store_id</th>\n",
       "      <th>retail_disc</th>\n",
       "      <th>trans_time</th>\n",
       "      <th>week_no</th>\n",
       "      <th>coupon_disc</th>\n",
       "      <th>coupon_match_disc</th>\n",
       "    </tr>\n",
       "  </thead>\n",
       "  <tbody>\n",
       "    <tr>\n",
       "      <th>0</th>\n",
       "      <td>2375</td>\n",
       "      <td>26984851472</td>\n",
       "      <td>1</td>\n",
       "      <td>1004906</td>\n",
       "      <td>1</td>\n",
       "      <td>1.39</td>\n",
       "      <td>364</td>\n",
       "      <td>-0.6</td>\n",
       "      <td>1631</td>\n",
       "      <td>1</td>\n",
       "      <td>0.0</td>\n",
       "      <td>0.0</td>\n",
       "    </tr>\n",
       "    <tr>\n",
       "      <th>1</th>\n",
       "      <td>2375</td>\n",
       "      <td>26984851472</td>\n",
       "      <td>1</td>\n",
       "      <td>1033142</td>\n",
       "      <td>1</td>\n",
       "      <td>0.82</td>\n",
       "      <td>364</td>\n",
       "      <td>0.0</td>\n",
       "      <td>1631</td>\n",
       "      <td>1</td>\n",
       "      <td>0.0</td>\n",
       "      <td>0.0</td>\n",
       "    </tr>\n",
       "  </tbody>\n",
       "</table>\n",
       "</div>"
      ],
      "text/plain": [
       "   user_id    basket_id  day  item_id  quantity  sales_value  store_id  \\\n",
       "0     2375  26984851472    1  1004906         1         1.39       364   \n",
       "1     2375  26984851472    1  1033142         1         0.82       364   \n",
       "\n",
       "   retail_disc  trans_time  week_no  coupon_disc  coupon_match_disc  \n",
       "0         -0.6        1631        1          0.0                0.0  \n",
       "1          0.0        1631        1          0.0                0.0  "
      ]
     },
     "execution_count": 3,
     "metadata": {},
     "output_type": "execute_result"
    }
   ],
   "source": [
    "data = pd.read_csv('./data/retail_train.csv')\n",
    "data.head(2)"
   ]
  },
  {
   "cell_type": "code",
   "execution_count": 4,
   "metadata": {},
   "outputs": [
    {
     "data": {
      "text/plain": [
       "95"
      ]
     },
     "execution_count": 4,
     "metadata": {},
     "output_type": "execute_result"
    }
   ],
   "source": [
    "data['week_no'].nunique()"
   ]
  },
  {
   "cell_type": "code",
   "execution_count": 5,
   "metadata": {},
   "outputs": [
    {
     "name": "stdout",
     "output_type": "stream",
     "text": [
      "# users:  2499\n",
      "# items:  89051\n",
      "# interactions:  2396804\n"
     ]
    }
   ],
   "source": [
    "users, items, interactions = data.user_id.nunique(), data.item_id.nunique(), data.shape[0]\n",
    "\n",
    "print('# users: ', users)\n",
    "print('# items: ', items)\n",
    "print('# interactions: ', interactions)"
   ]
  },
  {
   "cell_type": "code",
   "execution_count": 6,
   "metadata": {},
   "outputs": [
    {
     "data": {
      "text/html": [
       "<div>\n",
       "<style scoped>\n",
       "    .dataframe tbody tr th:only-of-type {\n",
       "        vertical-align: middle;\n",
       "    }\n",
       "\n",
       "    .dataframe tbody tr th {\n",
       "        vertical-align: top;\n",
       "    }\n",
       "\n",
       "    .dataframe thead th {\n",
       "        text-align: right;\n",
       "    }\n",
       "</style>\n",
       "<table border=\"1\" class=\"dataframe\">\n",
       "  <thead>\n",
       "    <tr style=\"text-align: right;\">\n",
       "      <th></th>\n",
       "      <th>item_id</th>\n",
       "      <th>sales_value</th>\n",
       "    </tr>\n",
       "  </thead>\n",
       "  <tbody>\n",
       "    <tr>\n",
       "      <th>count</th>\n",
       "      <td>8.905100e+04</td>\n",
       "      <td>89051.000000</td>\n",
       "    </tr>\n",
       "    <tr>\n",
       "      <th>mean</th>\n",
       "      <td>5.115772e+06</td>\n",
       "      <td>83.458481</td>\n",
       "    </tr>\n",
       "    <tr>\n",
       "      <th>std</th>\n",
       "      <td>5.178973e+06</td>\n",
       "      <td>1628.715079</td>\n",
       "    </tr>\n",
       "    <tr>\n",
       "      <th>min</th>\n",
       "      <td>2.567100e+04</td>\n",
       "      <td>0.000000</td>\n",
       "    </tr>\n",
       "    <tr>\n",
       "      <th>25%</th>\n",
       "      <td>9.665830e+05</td>\n",
       "      <td>3.500000</td>\n",
       "    </tr>\n",
       "    <tr>\n",
       "      <th>50%</th>\n",
       "      <td>1.448516e+06</td>\n",
       "      <td>10.780000</td>\n",
       "    </tr>\n",
       "    <tr>\n",
       "      <th>75%</th>\n",
       "      <td>9.553042e+06</td>\n",
       "      <td>46.105000</td>\n",
       "    </tr>\n",
       "    <tr>\n",
       "      <th>max</th>\n",
       "      <td>1.802456e+07</td>\n",
       "      <td>467993.620000</td>\n",
       "    </tr>\n",
       "  </tbody>\n",
       "</table>\n",
       "</div>"
      ],
      "text/plain": [
       "            item_id    sales_value\n",
       "count  8.905100e+04   89051.000000\n",
       "mean   5.115772e+06      83.458481\n",
       "std    5.178973e+06    1628.715079\n",
       "min    2.567100e+04       0.000000\n",
       "25%    9.665830e+05       3.500000\n",
       "50%    1.448516e+06      10.780000\n",
       "75%    9.553042e+06      46.105000\n",
       "max    1.802456e+07  467993.620000"
      ]
     },
     "execution_count": 6,
     "metadata": {},
     "output_type": "execute_result"
    }
   ],
   "source": [
    "popularity = data.groupby('item_id')['sales_value'].sum().reset_index()\n",
    "popularity.describe()"
   ]
  },
  {
   "cell_type": "code",
   "execution_count": 7,
   "metadata": {},
   "outputs": [
    {
     "data": {
      "text/html": [
       "<div>\n",
       "<style scoped>\n",
       "    .dataframe tbody tr th:only-of-type {\n",
       "        vertical-align: middle;\n",
       "    }\n",
       "\n",
       "    .dataframe tbody tr th {\n",
       "        vertical-align: top;\n",
       "    }\n",
       "\n",
       "    .dataframe thead th {\n",
       "        text-align: right;\n",
       "    }\n",
       "</style>\n",
       "<table border=\"1\" class=\"dataframe\">\n",
       "  <thead>\n",
       "    <tr style=\"text-align: right;\">\n",
       "      <th></th>\n",
       "      <th>item_id</th>\n",
       "      <th>user_id</th>\n",
       "    </tr>\n",
       "  </thead>\n",
       "  <tbody>\n",
       "    <tr>\n",
       "      <th>count</th>\n",
       "      <td>8.905100e+04</td>\n",
       "      <td>89051.000000</td>\n",
       "    </tr>\n",
       "    <tr>\n",
       "      <th>mean</th>\n",
       "      <td>5.115772e+06</td>\n",
       "      <td>14.759767</td>\n",
       "    </tr>\n",
       "    <tr>\n",
       "      <th>std</th>\n",
       "      <td>5.178973e+06</td>\n",
       "      <td>45.904111</td>\n",
       "    </tr>\n",
       "    <tr>\n",
       "      <th>min</th>\n",
       "      <td>2.567100e+04</td>\n",
       "      <td>1.000000</td>\n",
       "    </tr>\n",
       "    <tr>\n",
       "      <th>25%</th>\n",
       "      <td>9.665830e+05</td>\n",
       "      <td>1.000000</td>\n",
       "    </tr>\n",
       "    <tr>\n",
       "      <th>50%</th>\n",
       "      <td>1.448516e+06</td>\n",
       "      <td>2.000000</td>\n",
       "    </tr>\n",
       "    <tr>\n",
       "      <th>75%</th>\n",
       "      <td>9.553042e+06</td>\n",
       "      <td>10.000000</td>\n",
       "    </tr>\n",
       "    <tr>\n",
       "      <th>max</th>\n",
       "      <td>1.802456e+07</td>\n",
       "      <td>2039.000000</td>\n",
       "    </tr>\n",
       "  </tbody>\n",
       "</table>\n",
       "</div>"
      ],
      "text/plain": [
       "            item_id       user_id\n",
       "count  8.905100e+04  89051.000000\n",
       "mean   5.115772e+06     14.759767\n",
       "std    5.178973e+06     45.904111\n",
       "min    2.567100e+04      1.000000\n",
       "25%    9.665830e+05      1.000000\n",
       "50%    1.448516e+06      2.000000\n",
       "75%    9.553042e+06     10.000000\n",
       "max    1.802456e+07   2039.000000"
      ]
     },
     "execution_count": 7,
     "metadata": {},
     "output_type": "execute_result"
    }
   ],
   "source": [
    "popularity = data.groupby('item_id')['user_id'].nunique().reset_index()\n",
    "popularity.describe()"
   ]
  },
  {
   "cell_type": "markdown",
   "metadata": {},
   "source": [
    "### Train-test split"
   ]
  },
  {
   "cell_type": "markdown",
   "metadata": {},
   "source": [
    "В рекомендательных системах корректнее использовать train-test split по времени, а не случайно  \n",
    "Я возьму последние 3 недели в качестве теста"
   ]
  },
  {
   "cell_type": "code",
   "execution_count": 8,
   "metadata": {
    "colab": {},
    "colab_type": "code",
    "id": "epcBZlgJC8Y0"
   },
   "outputs": [],
   "source": [
    "test_size_weeks = 3\n",
    "\n",
    "data_train = data[data['week_no'] < data['week_no'].max() - test_size_weeks]\n",
    "data_test = data[data['week_no'] >= data['week_no'].max() - test_size_weeks]"
   ]
  },
  {
   "cell_type": "code",
   "execution_count": 9,
   "metadata": {},
   "outputs": [
    {
     "data": {
      "text/plain": [
       "(2278490, 118314)"
      ]
     },
     "execution_count": 9,
     "metadata": {},
     "output_type": "execute_result"
    }
   ],
   "source": [
    "data_train.shape[0], data_test.shape[0]"
   ]
  },
  {
   "cell_type": "code",
   "execution_count": 10,
   "metadata": {},
   "outputs": [
    {
     "data": {
      "text/html": [
       "<div>\n",
       "<style scoped>\n",
       "    .dataframe tbody tr th:only-of-type {\n",
       "        vertical-align: middle;\n",
       "    }\n",
       "\n",
       "    .dataframe tbody tr th {\n",
       "        vertical-align: top;\n",
       "    }\n",
       "\n",
       "    .dataframe thead th {\n",
       "        text-align: right;\n",
       "    }\n",
       "</style>\n",
       "<table border=\"1\" class=\"dataframe\">\n",
       "  <thead>\n",
       "    <tr style=\"text-align: right;\">\n",
       "      <th></th>\n",
       "      <th>user_id</th>\n",
       "      <th>actual</th>\n",
       "      <th>random_recommendation</th>\n",
       "      <th>popular_recommendation</th>\n",
       "      <th>itemitem</th>\n",
       "      <th>cosine</th>\n",
       "      <th>tfidf</th>\n",
       "      <th>own_purchases</th>\n",
       "    </tr>\n",
       "  </thead>\n",
       "  <tbody>\n",
       "    <tr>\n",
       "      <th>0</th>\n",
       "      <td>1</td>\n",
       "      <td>[  821867   834484   856942   865456   889248 ...</td>\n",
       "      <td>[5586238, 1015228, 866118, 2416733, 2603573]</td>\n",
       "      <td>[6534178, 6533889, 1029743, 6534166, 1082185]</td>\n",
       "      <td>[981760, 1127831, 1098066, 826249, 878996]</td>\n",
       "      <td>[981760, 1127831, 1098066, 878996, 826249]</td>\n",
       "      <td>[981760, 1127831, 1098066, 826249, 878996]</td>\n",
       "      <td>[999999, 1082185, 1029743, 995785, 1004906]</td>\n",
       "    </tr>\n",
       "    <tr>\n",
       "      <th>1</th>\n",
       "      <td>3</td>\n",
       "      <td>[  835476   851057   872021   878302   879948 ...</td>\n",
       "      <td>[161354, 63027, 1027802, 12263694, 307395]</td>\n",
       "      <td>[6534178, 6533889, 1029743, 6534166, 1082185]</td>\n",
       "      <td>[981760, 995242, 1029743, 840361, 961554]</td>\n",
       "      <td>[981760, 1004906, 961554, 1096036, 1080414]</td>\n",
       "      <td>[981760, 1004906, 859075, 1096036, 961554]</td>\n",
       "      <td>[999999, 1082185, 1098066, 6534178, 1127831]</td>\n",
       "    </tr>\n",
       "  </tbody>\n",
       "</table>\n",
       "</div>"
      ],
      "text/plain": [
       "   user_id                                             actual  \\\n",
       "0        1  [  821867   834484   856942   865456   889248 ...   \n",
       "1        3  [  835476   851057   872021   878302   879948 ...   \n",
       "\n",
       "                          random_recommendation  \\\n",
       "0  [5586238, 1015228, 866118, 2416733, 2603573]   \n",
       "1    [161354, 63027, 1027802, 12263694, 307395]   \n",
       "\n",
       "                          popular_recommendation  \\\n",
       "0  [6534178, 6533889, 1029743, 6534166, 1082185]   \n",
       "1  [6534178, 6533889, 1029743, 6534166, 1082185]   \n",
       "\n",
       "                                     itemitem  \\\n",
       "0  [981760, 1127831, 1098066, 826249, 878996]   \n",
       "1   [981760, 995242, 1029743, 840361, 961554]   \n",
       "\n",
       "                                        cosine  \\\n",
       "0   [981760, 1127831, 1098066, 878996, 826249]   \n",
       "1  [981760, 1004906, 961554, 1096036, 1080414]   \n",
       "\n",
       "                                        tfidf  \\\n",
       "0  [981760, 1127831, 1098066, 826249, 878996]   \n",
       "1  [981760, 1004906, 859075, 1096036, 961554]   \n",
       "\n",
       "                                  own_purchases  \n",
       "0   [999999, 1082185, 1029743, 995785, 1004906]  \n",
       "1  [999999, 1082185, 1098066, 6534178, 1127831]  "
      ]
     },
     "execution_count": 10,
     "metadata": {},
     "output_type": "execute_result"
    }
   ],
   "source": [
    "result = pd.read_csv('./data/predictions_basic.csv')\n",
    "result.head(2)"
   ]
  },
  {
   "cell_type": "code",
   "execution_count": 11,
   "metadata": {},
   "outputs": [
    {
     "name": "stdout",
     "output_type": "stream",
     "text": [
      "В тестовом дата сете 2042 юзеров\n",
      "В тестовом дата сете 0 новых юзеров\n"
     ]
    }
   ],
   "source": [
    "# проверка на наличие новых (холодных) пользователей\n",
    "test_users = result.shape[0]\n",
    "new_test_users = len(set(data_test['user_id']) - set(data_train['user_id']))\n",
    "\n",
    "print('В тестовом дата сете {} юзеров'.format(test_users))\n",
    "print('В тестовом дата сете {} новых юзеров'.format(new_test_users))"
   ]
  },
  {
   "cell_type": "markdown",
   "metadata": {
    "colab_type": "text",
    "id": "zlUUzLFeC8Y4"
   },
   "source": [
    "### Задание 1. Weighted Random Recommendation\n",
    "\n",
    "Напишите код для случайных рекоммендаций, в которых вероятность рекомендовать товар прямо пропорциональна логарифму продаж\n",
    "- Можно сэмплировать товары случайно, но пропорционально какому-либо весу\n",
    "- Например, прямопропорционально популярности. Вес = log(sales_sum товара)"
   ]
  },
  {
   "cell_type": "markdown",
   "metadata": {},
   "source": [
    "*Пример*  \n",
    "item_1 - 5, item_2 - 7, item_3 - 4  # / sum  \n",
    "item_1 - 5 / 16, item_2 - 7 / 16, item_3 - 4 / 16"
   ]
  },
  {
   "cell_type": "markdown",
   "metadata": {},
   "source": [
    "\n",
    "\n",
    "def get_items_weights(df):\n",
    "    sum_sales = df['sales_value'].sum()\n",
    "    items_weights = df.groupby('item_id').agg({'sales_value':'sum'}).reset_index().rename(columns={'sales_value':'weight'})\n",
    "    items_weights['weight']=items_weights['weight'].apply(lambda x: x/sum_sales)\n",
    "    return items_weights"
   ]
  },
  {
   "cell_type": "code",
   "execution_count": 12,
   "metadata": {
    "colab": {},
    "colab_type": "code",
    "id": "brMuCHolC8Y4"
   },
   "outputs": [],
   "source": [
    "def weighted_random_recommendation(items_weights, n=5):\n",
    "    \"\"\"Взвешенные случайные рекомендации\"\"\"\n",
    "    \n",
    "    items = np.array(items_weights['item_id'])\n",
    "    weights = np.array(items_weights['weight'])\n",
    "    \n",
    "    # в параметр p задаём расчитанные веса товаров  \n",
    "    recs = np.random.choice(items, size=n, replace=False, p=weights)\n",
    "    \n",
    "    return recs.tolist()"
   ]
  },
  {
   "cell_type": "code",
   "execution_count": 13,
   "metadata": {
    "colab": {},
    "colab_type": "code",
    "id": "nK_AS3tmC8Y7"
   },
   "outputs": [
    {
     "name": "stdout",
     "output_type": "stream",
     "text": [
      "CPU times: user 1.72 s, sys: 4.58 ms, total: 1.72 s\n",
      "Wall time: 1.72 s\n"
     ]
    },
    {
     "data": {
      "text/html": [
       "<div>\n",
       "<style scoped>\n",
       "    .dataframe tbody tr th:only-of-type {\n",
       "        vertical-align: middle;\n",
       "    }\n",
       "\n",
       "    .dataframe tbody tr th {\n",
       "        vertical-align: top;\n",
       "    }\n",
       "\n",
       "    .dataframe thead th {\n",
       "        text-align: right;\n",
       "    }\n",
       "</style>\n",
       "<table border=\"1\" class=\"dataframe\">\n",
       "  <thead>\n",
       "    <tr style=\"text-align: right;\">\n",
       "      <th></th>\n",
       "      <th>user_id</th>\n",
       "      <th>actual</th>\n",
       "      <th>random_recommendation</th>\n",
       "      <th>popular_recommendation</th>\n",
       "      <th>itemitem</th>\n",
       "      <th>cosine</th>\n",
       "      <th>tfidf</th>\n",
       "      <th>own_purchases</th>\n",
       "      <th>weighted_random_recommendation</th>\n",
       "    </tr>\n",
       "  </thead>\n",
       "  <tbody>\n",
       "    <tr>\n",
       "      <th>0</th>\n",
       "      <td>1</td>\n",
       "      <td>[  821867   834484   856942   865456   889248 ...</td>\n",
       "      <td>[5586238, 1015228, 866118, 2416733, 2603573]</td>\n",
       "      <td>[6534178, 6533889, 1029743, 6534166, 1082185]</td>\n",
       "      <td>[981760, 1127831, 1098066, 826249, 878996]</td>\n",
       "      <td>[981760, 1127831, 1098066, 878996, 826249]</td>\n",
       "      <td>[981760, 1127831, 1098066, 826249, 878996]</td>\n",
       "      <td>[999999, 1082185, 1029743, 995785, 1004906]</td>\n",
       "      <td>[860456, 1060677, 6391207, 873754, 891907]</td>\n",
       "    </tr>\n",
       "    <tr>\n",
       "      <th>1</th>\n",
       "      <td>3</td>\n",
       "      <td>[  835476   851057   872021   878302   879948 ...</td>\n",
       "      <td>[161354, 63027, 1027802, 12263694, 307395]</td>\n",
       "      <td>[6534178, 6533889, 1029743, 6534166, 1082185]</td>\n",
       "      <td>[981760, 995242, 1029743, 840361, 961554]</td>\n",
       "      <td>[981760, 1004906, 961554, 1096036, 1080414]</td>\n",
       "      <td>[981760, 1004906, 859075, 1096036, 961554]</td>\n",
       "      <td>[999999, 1082185, 1098066, 6534178, 1127831]</td>\n",
       "      <td>[418697, 952122, 6463949, 986548, 1106401]</td>\n",
       "    </tr>\n",
       "  </tbody>\n",
       "</table>\n",
       "</div>"
      ],
      "text/plain": [
       "   user_id                                             actual  \\\n",
       "0        1  [  821867   834484   856942   865456   889248 ...   \n",
       "1        3  [  835476   851057   872021   878302   879948 ...   \n",
       "\n",
       "                          random_recommendation  \\\n",
       "0  [5586238, 1015228, 866118, 2416733, 2603573]   \n",
       "1    [161354, 63027, 1027802, 12263694, 307395]   \n",
       "\n",
       "                          popular_recommendation  \\\n",
       "0  [6534178, 6533889, 1029743, 6534166, 1082185]   \n",
       "1  [6534178, 6533889, 1029743, 6534166, 1082185]   \n",
       "\n",
       "                                     itemitem  \\\n",
       "0  [981760, 1127831, 1098066, 826249, 878996]   \n",
       "1   [981760, 995242, 1029743, 840361, 961554]   \n",
       "\n",
       "                                        cosine  \\\n",
       "0   [981760, 1127831, 1098066, 878996, 826249]   \n",
       "1  [981760, 1004906, 961554, 1096036, 1080414]   \n",
       "\n",
       "                                        tfidf  \\\n",
       "0  [981760, 1127831, 1098066, 826249, 878996]   \n",
       "1  [981760, 1004906, 859075, 1096036, 961554]   \n",
       "\n",
       "                                  own_purchases  \\\n",
       "0   [999999, 1082185, 1029743, 995785, 1004906]   \n",
       "1  [999999, 1082185, 1098066, 6534178, 1127831]   \n",
       "\n",
       "               weighted_random_recommendation  \n",
       "0  [860456, 1060677, 6391207, 873754, 891907]  \n",
       "1  [418697, 952122, 6463949, 986548, 1106401]  "
      ]
     },
     "execution_count": 13,
     "metadata": {},
     "output_type": "execute_result"
    }
   ],
   "source": [
    "%%time\n",
    "\n",
    "# создаем датафрейм со столбцами item_id, weight. Сумма weight по всем товарам = 1\n",
    "\n",
    "items_weights = data_train.groupby('item_id')['sales_value'].sum().reset_index().rename(columns={'sales_value':'weight'})\n",
    "items_weights['weight'] = np.log(1 + items_weights['weight'])\n",
    "items_weights['weight'] = items_weights['weight']/sum(items_weights['weight'])\n",
    "\n",
    "result['weighted_random_recommendation'] = result['user_id'].apply(lambda x: weighted_random_recommendation(items_weights, n=5))\n",
    "result.head(2)"
   ]
  },
  {
   "cell_type": "markdown",
   "metadata": {
    "colab_type": "text",
    "id": "hyNG6O-wC8Y_"
   },
   "source": [
    "### Задание 2. Расчет метрик\n",
    "Рассчитайте Precision@5 для каждого алгоритма с помощью функции из вебинара 1. Какой алгоритм показывает лучшее качество?"
   ]
  },
  {
   "cell_type": "code",
   "execution_count": 14,
   "metadata": {},
   "outputs": [
    {
     "name": "stdout",
     "output_type": "stream",
     "text": [
      "<class 'pandas.core.frame.DataFrame'>\n",
      "RangeIndex: 2042 entries, 0 to 2041\n",
      "Data columns (total 9 columns):\n",
      " #   Column                          Non-Null Count  Dtype \n",
      "---  ------                          --------------  ----- \n",
      " 0   user_id                         2042 non-null   int64 \n",
      " 1   actual                          2042 non-null   object\n",
      " 2   random_recommendation           2042 non-null   object\n",
      " 3   popular_recommendation          2042 non-null   object\n",
      " 4   itemitem                        2042 non-null   object\n",
      " 5   cosine                          2042 non-null   object\n",
      " 6   tfidf                           2042 non-null   object\n",
      " 7   own_purchases                   2042 non-null   object\n",
      " 8   weighted_random_recommendation  2042 non-null   object\n",
      "dtypes: int64(1), object(8)\n",
      "memory usage: 143.7+ KB\n"
     ]
    }
   ],
   "source": [
    "result.info()"
   ]
  },
  {
   "cell_type": "code",
   "execution_count": 15,
   "metadata": {},
   "outputs": [],
   "source": [
    "# функция преобразует данные, чтобы их можно было в дальнейшем привести к числовому виду\n",
    "\n",
    "def clear_list(data):\n",
    "    if type(data) is str:\n",
    "        result = []\n",
    "        number = ''\n",
    "        for i in data[1:-1]:\n",
    "            if i != ' ' and i != ',' and i != '\\n':\n",
    "                number += i\n",
    "            elif number != '':\n",
    "                result.append(number)\n",
    "                number = ''\n",
    "        if number != '':\n",
    "            result.append(number)\n",
    "        return result\n",
    "    return data"
   ]
  },
  {
   "cell_type": "code",
   "execution_count": 16,
   "metadata": {
    "colab": {},
    "colab_type": "code",
    "id": "_0cu0VeTC8ZD"
   },
   "outputs": [],
   "source": [
    "def precision_at_k(recommended_list, bought_list, k=5):\n",
    "    \n",
    "    bought_list = np.array(clear_list(bought_list)).astype(float)\n",
    "    recommended_list = np.array(clear_list(recommended_list)[:k]).astype(float)\n",
    "    \n",
    "    flags = np.isin(recommended_list, bought_list)\n",
    "    precision = flags.sum() / len(recommended_list)\n",
    "    \n",
    "    return precision"
   ]
  },
  {
   "cell_type": "code",
   "execution_count": 17,
   "metadata": {},
   "outputs": [
    {
     "name": "stdout",
     "output_type": "stream",
     "text": [
      "1.0:actual\n",
      "0.0006:random_recommendation\n",
      "0.1552:popular_recommendation\n",
      "0.0336:itemitem\n",
      "0.0353:cosine\n",
      "0.0361:tfidf\n",
      "0.18:own_purchases\n",
      "0.001:weighted_random_recommendation\n"
     ]
    }
   ],
   "source": [
    "for col in result.columns[1:]:    \n",
    "    print(f\"{round(result.apply(lambda row: precision_at_k(row[col], row['actual'], k=5), axis=1).mean(),4)}:{col}\")"
   ]
  },
  {
   "cell_type": "markdown",
   "metadata": {},
   "source": [
    "#### Вывод: лучшее качество показывает алгоритм own_purchases, который предлагает пользователям товары, которые они уже покупали до этого."
   ]
  }
 ],
 "metadata": {
  "colab": {
   "name": "hw_webinar_2.ipynb",
   "provenance": []
  },
  "kernelspec": {
   "display_name": "Python 3 (ipykernel)",
   "language": "python",
   "name": "python3"
  },
  "language_info": {
   "codemirror_mode": {
    "name": "ipython",
    "version": 3
   },
   "file_extension": ".py",
   "mimetype": "text/x-python",
   "name": "python",
   "nbconvert_exporter": "python",
   "pygments_lexer": "ipython3",
   "version": "3.9.12"
  }
 },
 "nbformat": 4,
 "nbformat_minor": 4
}
