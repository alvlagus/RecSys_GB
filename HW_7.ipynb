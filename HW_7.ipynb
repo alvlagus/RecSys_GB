{
 "cells": [
  {
   "cell_type": "markdown",
   "id": "0ecc2a17-dfd9-4ffa-b175-341fa7bb8226",
   "metadata": {},
   "source": [
    "#  Вебинар 7. Рекомендательные системы в бизнесе\n",
    "## Домашнее задание\n",
    "\n",
    "Установить pySpark и попробовать параметры для ALS.\n",
    "\n",
    "1. Выбрать по 6 предсказаний для пользователей\n",
    "2. Удалить фейковый элемент\n",
    "3. Оставить 5 отсортированных предсказаний для каждого пользователя\n",
    "4. Посчитать метрики (map@5, precision@5)\n",
    "\n",
    "Определите сильно ли отличается качество ALS из implicit и pyspark, сравнивайте по метрикам map@5, precision@5"
   ]
  },
  {
   "cell_type": "code",
   "execution_count": 1,
   "id": "096f3553-aa4c-40a6-8513-2d4d90272cd8",
   "metadata": {},
   "outputs": [],
   "source": [
    "# ! pip install pyspark\n",
    "# ! pip install pyarrow"
   ]
  },
  {
   "cell_type": "code",
   "execution_count": 2,
   "id": "c880c464-ebf4-4c71-845d-e1fb4c4d84eb",
   "metadata": {},
   "outputs": [],
   "source": [
    "import pandas as pd\n",
    "import numpy as np\n",
    "\n",
    "from pyspark.ml.recommendation import ALS\n",
    "from pyspark.sql import SparkSession\n",
    "from pyspark.sql.types import DoubleType\n",
    "import pyspark.sql.functions as sf\n",
    "\n",
    "\n",
    "# Для работы с матрицами\n",
    "from scipy.sparse import csr_matrix, coo_matrix\n",
    "\n",
    "\n",
    "# Матричная факторизация\n",
    "from implicit.als import AlternatingLeastSquares\n",
    "# from implicit.nearest_neighbours import bm25_weight, tfidf_weight\n",
    "\n",
    "import os, sys\n",
    "\n",
    "module_path = os.path.abspath(os.path.join(os.pardir))\n",
    "if module_path not in sys.path:\n",
    "    sys.path.append(module_path)\n",
    "    \n",
    "from best_lib.metrics import precision_at_k, ap_k\n",
    "from best_lib.utils import prefilter_items\n"
   ]
  },
  {
   "cell_type": "code",
   "execution_count": 3,
   "id": "4a26021d-c43b-4974-a83d-b563b027125a",
   "metadata": {},
   "outputs": [],
   "source": [
    "PATH_DATA = \"../data\"\n",
    "# PATH_DATA = \"/content/drive/MyDrive/Colab Notebooks/21_рекомендательные_системы/data\""
   ]
  },
  {
   "cell_type": "code",
   "execution_count": 4,
   "id": "154f5601-f216-4f1d-9e12-0ab76f1ea897",
   "metadata": {},
   "outputs": [],
   "source": [
    "data = pd.read_csv(os.path.join(PATH_DATA,'retail_train.csv'))\n",
    "item_features = pd.read_csv(os.path.join(PATH_DATA,'product.csv'))\n",
    "user_features = pd.read_csv(os.path.join(PATH_DATA,'hh_demographic.csv'))"
   ]
  },
  {
   "cell_type": "code",
   "execution_count": 5,
   "id": "dc808a56-6612-42cd-b7ad-aae17e9179d6",
   "metadata": {},
   "outputs": [],
   "source": [
    "# column processing\n",
    "item_features.columns = [col.lower() for col in item_features.columns]\n",
    "user_features.columns = [col.lower() for col in user_features.columns]\n",
    "\n",
    "item_features.rename(columns={'product_id': 'item_id'}, inplace=True)\n",
    "user_features.rename(columns={'household_key': 'user_id'}, inplace=True)"
   ]
  },
  {
   "cell_type": "code",
   "execution_count": 6,
   "id": "3e7f3d7b-484f-4d6d-b1f5-c48ebe57857f",
   "metadata": {},
   "outputs": [
    {
     "data": {
      "text/html": [
       "<div>\n",
       "<style scoped>\n",
       "    .dataframe tbody tr th:only-of-type {\n",
       "        vertical-align: middle;\n",
       "    }\n",
       "\n",
       "    .dataframe tbody tr th {\n",
       "        vertical-align: top;\n",
       "    }\n",
       "\n",
       "    .dataframe thead th {\n",
       "        text-align: right;\n",
       "    }\n",
       "</style>\n",
       "<table border=\"1\" class=\"dataframe\">\n",
       "  <thead>\n",
       "    <tr style=\"text-align: right;\">\n",
       "      <th></th>\n",
       "      <th>user_id</th>\n",
       "      <th>basket_id</th>\n",
       "      <th>day</th>\n",
       "      <th>item_id</th>\n",
       "      <th>quantity</th>\n",
       "      <th>sales_value</th>\n",
       "      <th>store_id</th>\n",
       "      <th>retail_disc</th>\n",
       "      <th>trans_time</th>\n",
       "      <th>week_no</th>\n",
       "      <th>coupon_disc</th>\n",
       "      <th>coupon_match_disc</th>\n",
       "    </tr>\n",
       "  </thead>\n",
       "  <tbody>\n",
       "    <tr>\n",
       "      <th>0</th>\n",
       "      <td>2375</td>\n",
       "      <td>26984851472</td>\n",
       "      <td>1</td>\n",
       "      <td>1004906</td>\n",
       "      <td>1</td>\n",
       "      <td>1.39</td>\n",
       "      <td>364</td>\n",
       "      <td>-0.6</td>\n",
       "      <td>1631</td>\n",
       "      <td>1</td>\n",
       "      <td>0.0</td>\n",
       "      <td>0.0</td>\n",
       "    </tr>\n",
       "    <tr>\n",
       "      <th>1</th>\n",
       "      <td>2375</td>\n",
       "      <td>26984851472</td>\n",
       "      <td>1</td>\n",
       "      <td>1033142</td>\n",
       "      <td>1</td>\n",
       "      <td>0.82</td>\n",
       "      <td>364</td>\n",
       "      <td>0.0</td>\n",
       "      <td>1631</td>\n",
       "      <td>1</td>\n",
       "      <td>0.0</td>\n",
       "      <td>0.0</td>\n",
       "    </tr>\n",
       "  </tbody>\n",
       "</table>\n",
       "</div>"
      ],
      "text/plain": [
       "   user_id    basket_id  day  item_id  quantity  sales_value  store_id  \\\n",
       "0     2375  26984851472    1  1004906         1         1.39       364   \n",
       "1     2375  26984851472    1  1033142         1         0.82       364   \n",
       "\n",
       "   retail_disc  trans_time  week_no  coupon_disc  coupon_match_disc  \n",
       "0         -0.6        1631        1          0.0                0.0  \n",
       "1          0.0        1631        1          0.0                0.0  "
      ]
     },
     "execution_count": 6,
     "metadata": {},
     "output_type": "execute_result"
    }
   ],
   "source": [
    "# Используем train-test split по времени, а не случайно. Возьмем последние 3 недели в качестве теста\n",
    "\n",
    "test_size_weeks = 3\n",
    "\n",
    "data_train = data[data['week_no'] < data['week_no'].max() - test_size_weeks]\n",
    "data_test = data[data['week_no'] >= data['week_no'].max() - test_size_weeks]\n",
    "\n",
    "data_train.head(2)"
   ]
  },
  {
   "cell_type": "code",
   "execution_count": 7,
   "id": "b39b0629-4a00-4633-b338-11e6a202df68",
   "metadata": {},
   "outputs": [
    {
     "name": "stdout",
     "output_type": "stream",
     "text": [
      "Decreased # items from 86865 to 86865\n"
     ]
    }
   ],
   "source": [
    "n_items_before = data_train['item_id'].nunique()\n",
    "\n",
    "# data_train = prefilter_items(data_train, 5000, item_features)\n",
    "\n",
    "n_items_after = data_train['item_id'].nunique()\n",
    "print('Decreased # items from {} to {}'.format(n_items_before, n_items_after))"
   ]
  },
  {
   "cell_type": "code",
   "execution_count": 8,
   "id": "5c2ffc1f-7524-4c6d-8cbb-1fc80b55374b",
   "metadata": {},
   "outputs": [],
   "source": [
    "popularity = data_train.groupby('item_id')['quantity'].sum().reset_index()\n",
    "popularity.rename(columns={'quantity': 'n_sold'}, inplace=True)\n",
    "\n",
    "top_5000 = popularity.sort_values('n_sold', ascending=False).head(5000).item_id.tolist()"
   ]
  },
  {
   "cell_type": "code",
   "execution_count": 9,
   "id": "d631aeea-a4e7-443b-ae3f-00e7f7546a2d",
   "metadata": {},
   "outputs": [
    {
     "data": {
      "text/html": [
       "<div>\n",
       "<style scoped>\n",
       "    .dataframe tbody tr th:only-of-type {\n",
       "        vertical-align: middle;\n",
       "    }\n",
       "\n",
       "    .dataframe tbody tr th {\n",
       "        vertical-align: top;\n",
       "    }\n",
       "\n",
       "    .dataframe thead th {\n",
       "        text-align: right;\n",
       "    }\n",
       "</style>\n",
       "<table border=\"1\" class=\"dataframe\">\n",
       "  <thead>\n",
       "    <tr style=\"text-align: right;\">\n",
       "      <th>item_id</th>\n",
       "      <th>202291</th>\n",
       "      <th>397896</th>\n",
       "      <th>420647</th>\n",
       "      <th>480014</th>\n",
       "      <th>545926</th>\n",
       "      <th>707683</th>\n",
       "      <th>731106</th>\n",
       "      <th>818980</th>\n",
       "      <th>819063</th>\n",
       "      <th>819227</th>\n",
       "      <th>...</th>\n",
       "      <th>15778533</th>\n",
       "      <th>15831255</th>\n",
       "      <th>15926712</th>\n",
       "      <th>15926775</th>\n",
       "      <th>15926844</th>\n",
       "      <th>15926886</th>\n",
       "      <th>15927403</th>\n",
       "      <th>15927661</th>\n",
       "      <th>15927850</th>\n",
       "      <th>16809471</th>\n",
       "    </tr>\n",
       "    <tr>\n",
       "      <th>user_id</th>\n",
       "      <th></th>\n",
       "      <th></th>\n",
       "      <th></th>\n",
       "      <th></th>\n",
       "      <th></th>\n",
       "      <th></th>\n",
       "      <th></th>\n",
       "      <th></th>\n",
       "      <th></th>\n",
       "      <th></th>\n",
       "      <th></th>\n",
       "      <th></th>\n",
       "      <th></th>\n",
       "      <th></th>\n",
       "      <th></th>\n",
       "      <th></th>\n",
       "      <th></th>\n",
       "      <th></th>\n",
       "      <th></th>\n",
       "      <th></th>\n",
       "      <th></th>\n",
       "    </tr>\n",
       "  </thead>\n",
       "  <tbody>\n",
       "    <tr>\n",
       "      <th>1</th>\n",
       "      <td>0.0</td>\n",
       "      <td>0.0</td>\n",
       "      <td>0.0</td>\n",
       "      <td>0.0</td>\n",
       "      <td>0.0</td>\n",
       "      <td>0.0</td>\n",
       "      <td>0.0</td>\n",
       "      <td>0.0</td>\n",
       "      <td>0.0</td>\n",
       "      <td>0.0</td>\n",
       "      <td>...</td>\n",
       "      <td>0.0</td>\n",
       "      <td>0.0</td>\n",
       "      <td>0.0</td>\n",
       "      <td>0.0</td>\n",
       "      <td>1.0</td>\n",
       "      <td>0.0</td>\n",
       "      <td>0.0</td>\n",
       "      <td>0.0</td>\n",
       "      <td>0.0</td>\n",
       "      <td>0.0</td>\n",
       "    </tr>\n",
       "    <tr>\n",
       "      <th>2</th>\n",
       "      <td>0.0</td>\n",
       "      <td>0.0</td>\n",
       "      <td>0.0</td>\n",
       "      <td>0.0</td>\n",
       "      <td>0.0</td>\n",
       "      <td>0.0</td>\n",
       "      <td>0.0</td>\n",
       "      <td>0.0</td>\n",
       "      <td>0.0</td>\n",
       "      <td>0.0</td>\n",
       "      <td>...</td>\n",
       "      <td>0.0</td>\n",
       "      <td>0.0</td>\n",
       "      <td>0.0</td>\n",
       "      <td>0.0</td>\n",
       "      <td>0.0</td>\n",
       "      <td>0.0</td>\n",
       "      <td>0.0</td>\n",
       "      <td>0.0</td>\n",
       "      <td>0.0</td>\n",
       "      <td>0.0</td>\n",
       "    </tr>\n",
       "    <tr>\n",
       "      <th>3</th>\n",
       "      <td>0.0</td>\n",
       "      <td>0.0</td>\n",
       "      <td>0.0</td>\n",
       "      <td>0.0</td>\n",
       "      <td>0.0</td>\n",
       "      <td>0.0</td>\n",
       "      <td>0.0</td>\n",
       "      <td>0.0</td>\n",
       "      <td>0.0</td>\n",
       "      <td>0.0</td>\n",
       "      <td>...</td>\n",
       "      <td>0.0</td>\n",
       "      <td>0.0</td>\n",
       "      <td>0.0</td>\n",
       "      <td>0.0</td>\n",
       "      <td>0.0</td>\n",
       "      <td>0.0</td>\n",
       "      <td>0.0</td>\n",
       "      <td>0.0</td>\n",
       "      <td>0.0</td>\n",
       "      <td>0.0</td>\n",
       "    </tr>\n",
       "  </tbody>\n",
       "</table>\n",
       "<p>3 rows × 5001 columns</p>\n",
       "</div>"
      ],
      "text/plain": [
       "item_id  202291    397896    420647    480014    545926    707683    731106    \\\n",
       "user_id                                                                         \n",
       "1             0.0       0.0       0.0       0.0       0.0       0.0       0.0   \n",
       "2             0.0       0.0       0.0       0.0       0.0       0.0       0.0   \n",
       "3             0.0       0.0       0.0       0.0       0.0       0.0       0.0   \n",
       "\n",
       "item_id  818980    819063    819227    ...  15778533  15831255  15926712  \\\n",
       "user_id                                ...                                 \n",
       "1             0.0       0.0       0.0  ...       0.0       0.0       0.0   \n",
       "2             0.0       0.0       0.0  ...       0.0       0.0       0.0   \n",
       "3             0.0       0.0       0.0  ...       0.0       0.0       0.0   \n",
       "\n",
       "item_id  15926775  15926844  15926886  15927403  15927661  15927850  16809471  \n",
       "user_id                                                                        \n",
       "1             0.0       1.0       0.0       0.0       0.0       0.0       0.0  \n",
       "2             0.0       0.0       0.0       0.0       0.0       0.0       0.0  \n",
       "3             0.0       0.0       0.0       0.0       0.0       0.0       0.0  \n",
       "\n",
       "[3 rows x 5001 columns]"
      ]
     },
     "execution_count": 9,
     "metadata": {},
     "output_type": "execute_result"
    }
   ],
   "source": [
    "# Заведем фиктивный item_id (если юзер покупал товары из топ-5000, то он \"купил\" такой товар)\n",
    "\n",
    "data_train.loc[~data_train['item_id'].isin(top_5000), 'item_id'] = 999999\n",
    "\n",
    "user_item_matrix = pd.pivot_table(data_train,\n",
    "                                 index='user_id',\n",
    "                                 columns='item_id',\n",
    "                                 values='quantity', # Можно пробовать другие варианты\n",
    "                                 aggfunc='count',\n",
    "                                 fill_value=0\n",
    "                                 )\n",
    "\n",
    "user_item_matrix = user_item_matrix.astype(float) # необходимый тип матрицы для implicit\n",
    "\n",
    "# переведем в формат saprse matrix (разреженной матрицы)\n",
    "\n",
    "sparse_user_item = csr_matrix(user_item_matrix).tocsr()\n",
    "\n",
    "user_item_matrix.head(3)"
   ]
  },
  {
   "cell_type": "code",
   "execution_count": 10,
   "id": "927c3727-fac2-4d0a-bbcd-0c1ac86dae6e",
   "metadata": {},
   "outputs": [],
   "source": [
    "data_test = data_test[data_test['item_id'].isin(data_train['item_id'].unique())]"
   ]
  },
  {
   "cell_type": "code",
   "execution_count": 11,
   "id": "f07160ec-6d64-4ba5-900b-36abef71ae73",
   "metadata": {},
   "outputs": [
    {
     "data": {
      "text/html": [
       "<div>\n",
       "<style scoped>\n",
       "    .dataframe tbody tr th:only-of-type {\n",
       "        vertical-align: middle;\n",
       "    }\n",
       "\n",
       "    .dataframe tbody tr th {\n",
       "        vertical-align: top;\n",
       "    }\n",
       "\n",
       "    .dataframe thead th {\n",
       "        text-align: right;\n",
       "    }\n",
       "</style>\n",
       "<table border=\"1\" class=\"dataframe\">\n",
       "  <thead>\n",
       "    <tr style=\"text-align: right;\">\n",
       "      <th></th>\n",
       "      <th>user_id</th>\n",
       "      <th>actual</th>\n",
       "    </tr>\n",
       "  </thead>\n",
       "  <tbody>\n",
       "    <tr>\n",
       "      <th>0</th>\n",
       "      <td>1</td>\n",
       "      <td>[821867, 834484, 856942, 865456, 914190, 95804...</td>\n",
       "    </tr>\n",
       "    <tr>\n",
       "      <th>1</th>\n",
       "      <td>3</td>\n",
       "      <td>[851057, 872021, 878302, 879948, 909638, 91320...</td>\n",
       "    </tr>\n",
       "  </tbody>\n",
       "</table>\n",
       "</div>"
      ],
      "text/plain": [
       "   user_id                                             actual\n",
       "0        1  [821867, 834484, 856942, 865456, 914190, 95804...\n",
       "1        3  [851057, 872021, 878302, 879948, 909638, 91320..."
      ]
     },
     "execution_count": 11,
     "metadata": {},
     "output_type": "execute_result"
    }
   ],
   "source": [
    "result = data_test.groupby('user_id')['item_id'].unique().reset_index()\n",
    "result.columns = ['user_id', 'actual']\n",
    "result.head(2)"
   ]
  },
  {
   "cell_type": "code",
   "execution_count": 12,
   "id": "9fee0544-96f5-48ca-b6e0-83d588dbee30",
   "metadata": {},
   "outputs": [],
   "source": [
    "# заведём словари между соответствующими идентификаторами user item \n",
    "userids = user_item_matrix.index.values\n",
    "itemids = user_item_matrix.columns.values\n",
    "\n",
    "matrix_userids = np.arange(len(userids))\n",
    "matrix_itemids = np.arange(len(itemids))\n",
    "\n",
    "id_to_itemid = dict(zip(matrix_itemids, itemids))\n",
    "id_to_userid = dict(zip(matrix_userids, userids))\n",
    "\n",
    "itemid_to_id = dict(zip(itemids, matrix_itemids))\n",
    "userid_to_id = dict(zip(userids, matrix_userids))"
   ]
  },
  {
   "cell_type": "markdown",
   "id": "a52d1de7-45fe-4c31-8148-844e529eba3e",
   "metadata": {},
   "source": [
    "## SparkSession"
   ]
  },
  {
   "cell_type": "code",
   "execution_count": 13,
   "id": "d4d0ced2-0df2-41db-99e3-9cbaac8cc59b",
   "metadata": {},
   "outputs": [
    {
     "name": "stdout",
     "output_type": "stream",
     "text": [
      "22/12/25 02:32:34 WARN Utils: Your hostname, gans-System resolves to a loopback address: 127.0.1.1; using 192.168.1.71 instead (on interface wlp6s1)\n",
      "22/12/25 02:32:34 WARN Utils: Set SPARK_LOCAL_IP if you need to bind to another address\n"
     ]
    },
    {
     "name": "stderr",
     "output_type": "stream",
     "text": [
      "Setting default log level to \"WARN\".\n",
      "To adjust logging level use sc.setLogLevel(newLevel). For SparkR, use setLogLevel(newLevel).\n"
     ]
    },
    {
     "name": "stdout",
     "output_type": "stream",
     "text": [
      "22/12/25 02:32:35 WARN NativeCodeLoader: Unable to load native-hadoop library for your platform... using builtin-java classes where applicable\n"
     ]
    }
   ],
   "source": [
    "session = (\n",
    "    SparkSession.builder.config(\"spark.driver.memory\", \"8g\")\n",
    "    .config(\"spark.sql.shuffle.partitions\", \"50\")\n",
    "    .config(\"spark.driver.bindAddress\", \"127.0.0.1\")\n",
    "    .config(\"spark.driver.host\", \"localhost\")\n",
    "    .master(\"local[*]\")\n",
    "    .enableHiveSupport()\n",
    "    .getOrCreate()\n",
    ")"
   ]
  },
  {
   "cell_type": "code",
   "execution_count": 14,
   "id": "a5455554-29ec-4fbc-a55f-26df88cbf79c",
   "metadata": {},
   "outputs": [
    {
     "data": {
      "text/html": [
       "\n",
       "            <div>\n",
       "                <p><b>SparkSession - hive</b></p>\n",
       "                \n",
       "        <div>\n",
       "            <p><b>SparkContext</b></p>\n",
       "\n",
       "            <p><a href=\"http://localhost:4040\">Spark UI</a></p>\n",
       "\n",
       "            <dl>\n",
       "              <dt>Version</dt>\n",
       "                <dd><code>v3.3.1</code></dd>\n",
       "              <dt>Master</dt>\n",
       "                <dd><code>local[*]</code></dd>\n",
       "              <dt>AppName</dt>\n",
       "                <dd><code>pyspark-shell</code></dd>\n",
       "            </dl>\n",
       "        </div>\n",
       "        \n",
       "            </div>\n",
       "        "
      ],
      "text/plain": [
       "<pyspark.sql.session.SparkSession at 0x7fc2c1a06ac0>"
      ]
     },
     "execution_count": 14,
     "metadata": {},
     "output_type": "execute_result"
    }
   ],
   "source": [
    "session"
   ]
  },
  {
   "cell_type": "code",
   "execution_count": 15,
   "id": "d0e2d1a0-7292-4e30-8200-802578fd985e",
   "metadata": {},
   "outputs": [],
   "source": [
    "spark_data_train=session.createDataFrame(data_train[[\"user_id\", \"item_id\", \"quantity\"]])"
   ]
  },
  {
   "cell_type": "code",
   "execution_count": 16,
   "id": "263ea4d4-1a74-4efd-bb2f-39090f8afb11",
   "metadata": {},
   "outputs": [],
   "source": [
    "spark_data_train=spark_data_train.withColumnRenamed(\"quantity\", \"relevance\")"
   ]
  },
  {
   "cell_type": "code",
   "execution_count": 17,
   "id": "9e513663-543d-4b46-ac60-0cdf53efa77a",
   "metadata": {},
   "outputs": [
    {
     "name": "stdout",
     "output_type": "stream",
     "text": [
      "22/12/25 02:33:19 WARN TaskSetManager: Stage 0 contains a task of very large size (3321 KiB). The maximum recommended task size is 1000 KiB.\n"
     ]
    },
    {
     "name": "stderr",
     "output_type": "stream",
     "text": [
      "[Stage 0:>                                                          (0 + 1) / 1]\r"
     ]
    },
    {
     "name": "stdout",
     "output_type": "stream",
     "text": [
      "+-------+-------+---------+\n",
      "|user_id|item_id|relevance|\n",
      "+-------+-------+---------+\n",
      "|   2375|1004906|        1|\n",
      "|   2375|1033142|        1|\n",
      "|   2375|1036325|        1|\n",
      "|   2375|1082185|        1|\n",
      "|   2375|8160430|        1|\n",
      "|   2375| 826249|        2|\n",
      "|   2375| 999999|        1|\n",
      "|   2375|1085983|        1|\n",
      "|   2375| 999999|        1|\n",
      "|   2375| 999999|        1|\n",
      "+-------+-------+---------+\n",
      "only showing top 10 rows\n",
      "\n"
     ]
    },
    {
     "name": "stderr",
     "output_type": "stream",
     "text": [
      "                                                                                \r"
     ]
    }
   ],
   "source": [
    "spark_data_train.show(10)"
   ]
  },
  {
   "cell_type": "code",
   "execution_count": 18,
   "id": "126697e0-a59b-4934-b2c8-a79c751b7488",
   "metadata": {},
   "outputs": [
    {
     "name": "stdout",
     "output_type": "stream",
     "text": [
      "22/12/25 02:33:20 WARN TaskSetManager: Stage 1 contains a task of very large size (3321 KiB). The maximum recommended task size is 1000 KiB.\n",
      "22/12/25 02:33:21 WARN TaskSetManager: Stage 2 contains a task of very large size (3321 KiB). The maximum recommended task size is 1000 KiB.\n"
     ]
    },
    {
     "name": "stderr",
     "output_type": "stream",
     "text": [
      "                                                                                \r"
     ]
    }
   ],
   "source": [
    "model = ALS(\n",
    "    rank=30,\n",
    "    userCol=\"user_id\",\n",
    "    itemCol=\"item_id\",\n",
    "    ratingCol=\"relevance\", \n",
    "    maxIter = 10,\n",
    "    alpha = 1.0,\n",
    "    regParam = 0.1,\n",
    "    implicitPrefs=True,\n",
    "    seed=42,\n",
    "    coldStartStrategy=\"drop\",\n",
    ").fit(spark_data_train)"
   ]
  },
  {
   "cell_type": "code",
   "execution_count": 19,
   "id": "7c4cb731-d93a-4cb8-85c4-50f2de84275c",
   "metadata": {},
   "outputs": [
    {
     "name": "stdout",
     "output_type": "stream",
     "text": [
      "+---+--------------------+\n",
      "| id|            features|\n",
      "+---+--------------------+\n",
      "| 10|[-0.042885095, -0...|\n",
      "| 20|[0.02070611, -0.5...|\n",
      "| 30|[-0.07214545, -0....|\n",
      "| 40|[-0.09899722, -0....|\n",
      "| 50|[-0.020767767, -0...|\n",
      "| 60|[0.024843518, -0....|\n",
      "| 70|[-0.083744325, -0...|\n",
      "| 80|[-0.12929422, -0....|\n",
      "| 90|[-0.098686494, -0...|\n",
      "|100|[0.05294045, -0.3...|\n",
      "|110|[-0.08737936, -0....|\n",
      "|120|[-0.029122217, -0...|\n",
      "|130|[-0.10858478, -0....|\n",
      "|140|[-0.061264124, -0...|\n",
      "|150|[-0.04698381, -0....|\n",
      "|160|[-0.17012869, -0....|\n",
      "|170|[0.0129210865, -0...|\n",
      "|180|[-0.077923544, -0...|\n",
      "|190|[-0.033504475, -0...|\n",
      "|200|[-0.0054225125, -...|\n",
      "+---+--------------------+\n",
      "only showing top 20 rows\n",
      "\n"
     ]
    }
   ],
   "source": [
    "model.userFactors.show()"
   ]
  },
  {
   "cell_type": "code",
   "execution_count": 20,
   "id": "3b6b5680-297e-4a3f-a0a1-43e49c3d5adb",
   "metadata": {},
   "outputs": [],
   "source": [
    "# users = pd.DataFrame([1, 2])\n",
    "# users"
   ]
  },
  {
   "cell_type": "code",
   "execution_count": 21,
   "id": "6fc8de8b-1271-4cf2-8a79-1b44a0990b76",
   "metadata": {},
   "outputs": [],
   "source": [
    "# session.createDataFrame(users).show()"
   ]
  },
  {
   "cell_type": "code",
   "execution_count": 22,
   "id": "14f15741-2501-4ef2-baa1-a1b814ce6c77",
   "metadata": {},
   "outputs": [],
   "source": [
    "# recs_als = model.recommendForUserSubset(session.createDataFrame(users).withColumnRenamed(\"0\", \"user_id\"),6)"
   ]
  },
  {
   "cell_type": "code",
   "execution_count": 23,
   "id": "d599a494-4e94-4b88-913e-d3541d5ff45b",
   "metadata": {},
   "outputs": [],
   "source": [
    "recs_als = model.recommendForAllUsers(6)"
   ]
  },
  {
   "cell_type": "code",
   "execution_count": 24,
   "id": "949bb7c4-9013-4e17-8953-ac40c97b4fda",
   "metadata": {},
   "outputs": [
    {
     "name": "stderr",
     "output_type": "stream",
     "text": [
      "[Stage 371:================================================>     (89 + 8) / 100]\r"
     ]
    },
    {
     "name": "stdout",
     "output_type": "stream",
     "text": [
      "+-------+--------------------+\n",
      "|user_id|     recommendations|\n",
      "+-------+--------------------+\n",
      "|      3|[{999999, 1.55052...|\n",
      "|      4|[{999999, 1.56255...|\n",
      "|      5|[{999999, 1.68301...|\n",
      "|      7|[{999999, 1.74501...|\n",
      "|      8|[{999999, 1.79657...|\n",
      "|     11|[{999999, 0.89170...|\n",
      "|     20|[{1404121, 2.0185...|\n",
      "|     23|[{999999, 1.77064...|\n",
      "|     28|[{999999, 1.73617...|\n",
      "|     31|[{999999, 1.70128...|\n",
      "|     32|[{999999, 1.73797...|\n",
      "|     33|[{999999, 1.49812...|\n",
      "|     34|[{999999, 1.35699...|\n",
      "|     39|[{999999, 1.77272...|\n",
      "|     40|[{1082185, 1.8518...|\n",
      "|     48|[{999999, 1.62534...|\n",
      "|     49|[{6544236, 1.8535...|\n",
      "|     51|[{999999, 1.67037...|\n",
      "|     53|[{999999, 1.71819...|\n",
      "|     54|[{999999, 0.93344...|\n",
      "+-------+--------------------+\n",
      "only showing top 20 rows\n",
      "\n"
     ]
    },
    {
     "name": "stderr",
     "output_type": "stream",
     "text": [
      "                                                                                \r"
     ]
    }
   ],
   "source": [
    "recs_als.show()"
   ]
  },
  {
   "cell_type": "code",
   "execution_count": 25,
   "id": "857d1149-4cd3-4bf0-be46-22d1dde80ef9",
   "metadata": {},
   "outputs": [],
   "source": [
    "recs_als=(recs_als.withColumn(\n",
    "                    \"recommendations\", sf.explode(\"recommendations\"))\n",
    "              .withColumn(\"item_id\", sf.col(\"recommendations.item_id\"))\n",
    "              .withColumn(\"relevance\", sf.col(\"recommendations.rating\").cast(DoubleType()),)\n",
    "              .select(\"user_id\", \"item_id\", \"relevance\")\n",
    "         ) "
   ]
  },
  {
   "cell_type": "code",
   "execution_count": 26,
   "id": "f12ce047-e85c-4b41-9d88-f307c8ea4b6e",
   "metadata": {},
   "outputs": [
    {
     "name": "stderr",
     "output_type": "stream",
     "text": [
      "[Stage 420:===============================================>      (88 + 8) / 100]\r"
     ]
    },
    {
     "name": "stdout",
     "output_type": "stream",
     "text": [
      "+-------+-------+------------------+\n",
      "|user_id|item_id|         relevance|\n",
      "+-------+-------+------------------+\n",
      "|      3| 999999|1.5505210161209106|\n",
      "|      3|1029743| 1.469294786453247|\n",
      "|      3|1106523|1.4576222896575928|\n",
      "|      3|1082185| 1.422029972076416|\n",
      "|      3| 951590|1.4106340408325195|\n",
      "|      3| 883404|1.3670177459716797|\n",
      "|      4| 999999|1.5625593662261963|\n",
      "|      4|1082185|1.3673204183578491|\n",
      "|      4|1029743| 1.233508825302124|\n",
      "|      4| 995242|1.1131083965301514|\n",
      "|      4|1106523|1.1031150817871094|\n",
      "|      4| 981760|1.0232075452804565|\n",
      "|      5| 999999|1.6830198764801025|\n",
      "|      5|1082185|1.4448405504226685|\n",
      "|      5|1029743|1.2216860055923462|\n",
      "|      5|6534178|1.2168898582458496|\n",
      "|      5| 995242|1.1506799459457397|\n",
      "|      5|1106523|1.0580171346664429|\n",
      "|      7| 999999|1.7450158596038818|\n",
      "|      7|1082185|1.6288162469863892|\n",
      "+-------+-------+------------------+\n",
      "only showing top 20 rows\n",
      "\n"
     ]
    },
    {
     "name": "stderr",
     "output_type": "stream",
     "text": [
      "                                                                                \r"
     ]
    }
   ],
   "source": [
    "recs_als.show()"
   ]
  },
  {
   "cell_type": "code",
   "execution_count": 27,
   "id": "6487f197-c47f-4331-912d-9e8a016d225b",
   "metadata": {
    "tags": []
   },
   "outputs": [
    {
     "name": "stderr",
     "output_type": "stream",
     "text": [
      "                                                                                \r"
     ]
    },
    {
     "data": {
      "text/html": [
       "<div>\n",
       "<style scoped>\n",
       "    .dataframe tbody tr th:only-of-type {\n",
       "        vertical-align: middle;\n",
       "    }\n",
       "\n",
       "    .dataframe tbody tr th {\n",
       "        vertical-align: top;\n",
       "    }\n",
       "\n",
       "    .dataframe thead th {\n",
       "        text-align: right;\n",
       "    }\n",
       "</style>\n",
       "<table border=\"1\" class=\"dataframe\">\n",
       "  <thead>\n",
       "    <tr style=\"text-align: right;\">\n",
       "      <th></th>\n",
       "      <th>user_id</th>\n",
       "      <th>item_id</th>\n",
       "    </tr>\n",
       "  </thead>\n",
       "  <tbody>\n",
       "    <tr>\n",
       "      <th>0</th>\n",
       "      <td>1</td>\n",
       "      <td>[1082185, 1029743, 981760, 995242, 862349]</td>\n",
       "    </tr>\n",
       "    <tr>\n",
       "      <th>1</th>\n",
       "      <td>2</td>\n",
       "      <td>[1082185, 1029743, 1106523, 995242, 981760]</td>\n",
       "    </tr>\n",
       "    <tr>\n",
       "      <th>2</th>\n",
       "      <td>3</td>\n",
       "      <td>[1029743, 1106523, 1082185, 951590, 883404]</td>\n",
       "    </tr>\n",
       "    <tr>\n",
       "      <th>3</th>\n",
       "      <td>4</td>\n",
       "      <td>[1082185, 1029743, 995242, 1106523, 981760]</td>\n",
       "    </tr>\n",
       "    <tr>\n",
       "      <th>4</th>\n",
       "      <td>5</td>\n",
       "      <td>[1082185, 1029743, 6534178, 995242, 1106523]</td>\n",
       "    </tr>\n",
       "    <tr>\n",
       "      <th>5</th>\n",
       "      <td>6</td>\n",
       "      <td>[1082185, 1026118, 1051516, 854852, 878996]</td>\n",
       "    </tr>\n",
       "    <tr>\n",
       "      <th>6</th>\n",
       "      <td>7</td>\n",
       "      <td>[1082185, 1029743, 995242, 1106523, 981760]</td>\n",
       "    </tr>\n",
       "    <tr>\n",
       "      <th>7</th>\n",
       "      <td>8</td>\n",
       "      <td>[1082185, 1029743, 1106523, 981760, 883404]</td>\n",
       "    </tr>\n",
       "    <tr>\n",
       "      <th>8</th>\n",
       "      <td>9</td>\n",
       "      <td>[1082185, 1029743, 995242, 1106523, 6534178]</td>\n",
       "    </tr>\n",
       "    <tr>\n",
       "      <th>9</th>\n",
       "      <td>10</td>\n",
       "      <td>[1082185, 1029743, 6534178, 995242, 1106523]</td>\n",
       "    </tr>\n",
       "  </tbody>\n",
       "</table>\n",
       "</div>"
      ],
      "text/plain": [
       "   user_id                                       item_id\n",
       "0        1    [1082185, 1029743, 981760, 995242, 862349]\n",
       "1        2   [1082185, 1029743, 1106523, 995242, 981760]\n",
       "2        3   [1029743, 1106523, 1082185, 951590, 883404]\n",
       "3        4   [1082185, 1029743, 995242, 1106523, 981760]\n",
       "4        5  [1082185, 1029743, 6534178, 995242, 1106523]\n",
       "5        6   [1082185, 1026118, 1051516, 854852, 878996]\n",
       "6        7   [1082185, 1029743, 995242, 1106523, 981760]\n",
       "7        8   [1082185, 1029743, 1106523, 981760, 883404]\n",
       "8        9  [1082185, 1029743, 995242, 1106523, 6534178]\n",
       "9       10  [1082185, 1029743, 6534178, 995242, 1106523]"
      ]
     },
     "execution_count": 27,
     "metadata": {},
     "output_type": "execute_result"
    }
   ],
   "source": [
    "df = recs_als.toPandas()\n",
    "df = df[df.item_id != 999999]\n",
    "df.drop(['relevance'], axis=1)\n",
    "df = df.groupby('user_id')['item_id'].unique().reset_index()\n",
    "df.columns=['user_id', 'item_id']\n",
    "df.head(10)"
   ]
  },
  {
   "cell_type": "code",
   "execution_count": 28,
   "id": "3ff8d111-1f02-4b48-96f9-06045607139f",
   "metadata": {},
   "outputs": [
    {
     "data": {
      "text/html": [
       "<div>\n",
       "<style scoped>\n",
       "    .dataframe tbody tr th:only-of-type {\n",
       "        vertical-align: middle;\n",
       "    }\n",
       "\n",
       "    .dataframe tbody tr th {\n",
       "        vertical-align: top;\n",
       "    }\n",
       "\n",
       "    .dataframe thead th {\n",
       "        text-align: right;\n",
       "    }\n",
       "</style>\n",
       "<table border=\"1\" class=\"dataframe\">\n",
       "  <thead>\n",
       "    <tr style=\"text-align: right;\">\n",
       "      <th></th>\n",
       "      <th>user_id</th>\n",
       "      <th>pyspark_alt</th>\n",
       "    </tr>\n",
       "  </thead>\n",
       "  <tbody>\n",
       "    <tr>\n",
       "      <th>0</th>\n",
       "      <td>1</td>\n",
       "      <td>[1082185, 1029743, 981760, 995242, 862349]</td>\n",
       "    </tr>\n",
       "    <tr>\n",
       "      <th>1</th>\n",
       "      <td>2</td>\n",
       "      <td>[1082185, 1029743, 1106523, 995242, 981760]</td>\n",
       "    </tr>\n",
       "    <tr>\n",
       "      <th>2</th>\n",
       "      <td>3</td>\n",
       "      <td>[1029743, 1106523, 1082185, 951590, 883404]</td>\n",
       "    </tr>\n",
       "    <tr>\n",
       "      <th>3</th>\n",
       "      <td>4</td>\n",
       "      <td>[1082185, 1029743, 995242, 1106523, 981760]</td>\n",
       "    </tr>\n",
       "    <tr>\n",
       "      <th>4</th>\n",
       "      <td>5</td>\n",
       "      <td>[1082185, 1029743, 6534178, 995242, 1106523]</td>\n",
       "    </tr>\n",
       "    <tr>\n",
       "      <th>5</th>\n",
       "      <td>6</td>\n",
       "      <td>[1082185, 1026118, 1051516, 854852, 878996]</td>\n",
       "    </tr>\n",
       "    <tr>\n",
       "      <th>6</th>\n",
       "      <td>7</td>\n",
       "      <td>[1082185, 1029743, 995242, 1106523, 981760]</td>\n",
       "    </tr>\n",
       "    <tr>\n",
       "      <th>7</th>\n",
       "      <td>8</td>\n",
       "      <td>[1082185, 1029743, 1106523, 981760, 883404]</td>\n",
       "    </tr>\n",
       "    <tr>\n",
       "      <th>8</th>\n",
       "      <td>9</td>\n",
       "      <td>[1082185, 1029743, 995242, 1106523, 6534178]</td>\n",
       "    </tr>\n",
       "    <tr>\n",
       "      <th>9</th>\n",
       "      <td>10</td>\n",
       "      <td>[1082185, 1029743, 6534178, 995242, 1106523]</td>\n",
       "    </tr>\n",
       "  </tbody>\n",
       "</table>\n",
       "</div>"
      ],
      "text/plain": [
       "   user_id                                   pyspark_alt\n",
       "0        1    [1082185, 1029743, 981760, 995242, 862349]\n",
       "1        2   [1082185, 1029743, 1106523, 995242, 981760]\n",
       "2        3   [1029743, 1106523, 1082185, 951590, 883404]\n",
       "3        4   [1082185, 1029743, 995242, 1106523, 981760]\n",
       "4        5  [1082185, 1029743, 6534178, 995242, 1106523]\n",
       "5        6   [1082185, 1026118, 1051516, 854852, 878996]\n",
       "6        7   [1082185, 1029743, 995242, 1106523, 981760]\n",
       "7        8   [1082185, 1029743, 1106523, 981760, 883404]\n",
       "8        9  [1082185, 1029743, 995242, 1106523, 6534178]\n",
       "9       10  [1082185, 1029743, 6534178, 995242, 1106523]"
      ]
     },
     "execution_count": 28,
     "metadata": {},
     "output_type": "execute_result"
    }
   ],
   "source": [
    "\n",
    "df = df.rename(columns={'item_id': 'pyspark_alt'})\n",
    "df.head(10)"
   ]
  },
  {
   "cell_type": "code",
   "execution_count": 29,
   "id": "45c56137-5b9a-4c65-9775-7ef61cbad841",
   "metadata": {},
   "outputs": [],
   "source": [
    "result = result.merge(df, left_on='user_id', right_on='user_id')\n",
    "# result.head(10)"
   ]
  },
  {
   "cell_type": "markdown",
   "id": "e5dc5226-e69b-4e23-b3d6-99f0af84d001",
   "metadata": {
    "tags": []
   },
   "source": [
    "## ALS implicit"
   ]
  },
  {
   "cell_type": "code",
   "execution_count": 30,
   "id": "e92d5987-3356-4f16-b4c3-b00eb64a00ba",
   "metadata": {},
   "outputs": [
    {
     "data": {
      "application/vnd.jupyter.widget-view+json": {
       "model_id": "a7ea44a8b64047f589548839ea6cd571",
       "version_major": 2,
       "version_minor": 0
      },
      "text/plain": [
       "  0%|          | 0/15 [00:00<?, ?it/s]"
      ]
     },
     "metadata": {},
     "output_type": "display_data"
    },
    {
     "name": "stdout",
     "output_type": "stream",
     "text": [
      "CPU times: user 1.82 s, sys: 108 ms, total: 1.93 s\n",
      "Wall time: 1.92 s\n"
     ]
    }
   ],
   "source": [
    "%%time\n",
    "\n",
    "model_als = AlternatingLeastSquares(factors=100, \n",
    "                                regularization=0.001,\n",
    "                                # alpha=0.5,\n",
    "                                iterations=15, \n",
    "                                calculate_training_loss=True, \n",
    "                                num_threads=4,                                \n",
    "                                random_state=42)\n",
    "\n",
    "model_als.fit(sparse_user_item,  # На вход item-user matrix\n",
    "          show_progress=True)"
   ]
  },
  {
   "cell_type": "code",
   "execution_count": 31,
   "id": "ead6421d-9cd1-4671-afef-bac1655ad964",
   "metadata": {},
   "outputs": [],
   "source": [
    "recs = model_als.recommend(userid=userid_to_id[2],  # userid - id от 0 до N\n",
    "                        user_items=sparse_user_item,   # на вход user-item matrix\n",
    "                        N=5, # кол-во рекомендаций \n",
    "                        filter_already_liked_items=False, \n",
    "                        filter_items=[itemid_to_id[999999]], \n",
    "                        recalculate_user=False)"
   ]
  },
  {
   "cell_type": "code",
   "execution_count": 32,
   "id": "35d1bb9b-fe78-4921-bf2f-de9dda01d8fd",
   "metadata": {},
   "outputs": [
    {
     "data": {
      "text/plain": [
       "[1133018, 1106523, 5569230, 1082185, 1053690]"
      ]
     },
     "execution_count": 32,
     "metadata": {},
     "output_type": "execute_result"
    }
   ],
   "source": [
    "[id_to_itemid[rec] for rec in recs[0]]"
   ]
  },
  {
   "cell_type": "code",
   "execution_count": 33,
   "id": "6663e875-7bdc-4eca-819e-48cd966e18cb",
   "metadata": {},
   "outputs": [],
   "source": [
    "def get_recommendations(user, model_als, sparse_user_item, N=5):\n",
    "    res = [id_to_itemid[rec] for rec in \n",
    "                    model_als.recommend(userid=userid_to_id[user], \n",
    "                                    user_items=sparse_user_item[userid_to_id[user]],   # на вход user-item matrix\n",
    "                                    N=N, \n",
    "                                    filter_already_liked_items=False, \n",
    "                                    filter_items=[itemid_to_id[999999]], \n",
    "                                    recalculate_user=False)[0]]\n",
    "    return res"
   ]
  },
  {
   "cell_type": "code",
   "execution_count": 34,
   "id": "30feeb90-8feb-44a9-b4b9-b721e8d36fb6",
   "metadata": {},
   "outputs": [
    {
     "name": "stdout",
     "output_type": "stream",
     "text": [
      "CPU times: user 527 ms, sys: 0 ns, total: 527 ms\n",
      "Wall time: 526 ms\n"
     ]
    },
    {
     "data": {
      "text/html": [
       "<div>\n",
       "<style scoped>\n",
       "    .dataframe tbody tr th:only-of-type {\n",
       "        vertical-align: middle;\n",
       "    }\n",
       "\n",
       "    .dataframe tbody tr th {\n",
       "        vertical-align: top;\n",
       "    }\n",
       "\n",
       "    .dataframe thead th {\n",
       "        text-align: right;\n",
       "    }\n",
       "</style>\n",
       "<table border=\"1\" class=\"dataframe\">\n",
       "  <thead>\n",
       "    <tr style=\"text-align: right;\">\n",
       "      <th></th>\n",
       "      <th>user_id</th>\n",
       "      <th>actual</th>\n",
       "      <th>pyspark_alt</th>\n",
       "      <th>implicit_als</th>\n",
       "    </tr>\n",
       "  </thead>\n",
       "  <tbody>\n",
       "    <tr>\n",
       "      <th>0</th>\n",
       "      <td>1</td>\n",
       "      <td>[821867, 834484, 856942, 865456, 914190, 95804...</td>\n",
       "      <td>[1082185, 1029743, 981760, 995242, 862349]</td>\n",
       "      <td>[1033142, 995242, 1029743, 5569374, 979707]</td>\n",
       "    </tr>\n",
       "    <tr>\n",
       "      <th>1</th>\n",
       "      <td>3</td>\n",
       "      <td>[851057, 872021, 878302, 879948, 909638, 91320...</td>\n",
       "      <td>[1029743, 1106523, 1082185, 951590, 883404]</td>\n",
       "      <td>[5568378, 965766, 5569327, 1106523, 951590]</td>\n",
       "    </tr>\n",
       "    <tr>\n",
       "      <th>2</th>\n",
       "      <td>6</td>\n",
       "      <td>[920308, 926804, 1017061, 1078346, 1120741, 82...</td>\n",
       "      <td>[1082185, 1026118, 1051516, 854852, 878996]</td>\n",
       "      <td>[1051516, 1007195, 866211, 923746, 1024306]</td>\n",
       "    </tr>\n",
       "    <tr>\n",
       "      <th>3</th>\n",
       "      <td>7</td>\n",
       "      <td>[840386, 889774, 898068, 909714, 953476, 97699...</td>\n",
       "      <td>[1082185, 1029743, 995242, 1106523, 981760]</td>\n",
       "      <td>[1133018, 938700, 1082185, 1058997, 826249]</td>\n",
       "    </tr>\n",
       "    <tr>\n",
       "      <th>4</th>\n",
       "      <td>8</td>\n",
       "      <td>[835098, 872137, 910439, 924610, 1041259, 5569...</td>\n",
       "      <td>[1082185, 1029743, 1106523, 981760, 883404]</td>\n",
       "      <td>[1053690, 938700, 1004906, 930917, 913785]</td>\n",
       "    </tr>\n",
       "    <tr>\n",
       "      <th>5</th>\n",
       "      <td>9</td>\n",
       "      <td>[864335, 1029743, 9297474, 889692, 919427, 995...</td>\n",
       "      <td>[1082185, 1029743, 995242, 1106523, 6534178]</td>\n",
       "      <td>[1082185, 1029743, 995242, 981760, 849843]</td>\n",
       "    </tr>\n",
       "    <tr>\n",
       "      <th>6</th>\n",
       "      <td>13</td>\n",
       "      <td>[6534178, 840361, 862070, 884897, 920308, 9504...</td>\n",
       "      <td>[1082185, 1029743, 1404121, 981760, 1106523]</td>\n",
       "      <td>[859075, 918335, 999714, 1106523, 5568378]</td>\n",
       "    </tr>\n",
       "    <tr>\n",
       "      <th>7</th>\n",
       "      <td>14</td>\n",
       "      <td>[840601, 933067, 951590, 952408, 965693, 98176...</td>\n",
       "      <td>[1082185, 1029743, 1106523, 981760, 995242]</td>\n",
       "      <td>[844165, 951590, 826249, 965766, 6534178]</td>\n",
       "    </tr>\n",
       "    <tr>\n",
       "      <th>8</th>\n",
       "      <td>15</td>\n",
       "      <td>[910439, 1082185, 959076, 1023958, 1082310, 82...</td>\n",
       "      <td>[1082185, 1029743, 995242, 1106523, 981760]</td>\n",
       "      <td>[1082185, 1127831, 878996, 981760, 1029743]</td>\n",
       "    </tr>\n",
       "    <tr>\n",
       "      <th>9</th>\n",
       "      <td>16</td>\n",
       "      <td>[1062973, 1082185]</td>\n",
       "      <td>[1082185, 6534178, 1029743, 995242, 1106523]</td>\n",
       "      <td>[1082185, 6534178, 981760, 995242, 1029743]</td>\n",
       "    </tr>\n",
       "  </tbody>\n",
       "</table>\n",
       "</div>"
      ],
      "text/plain": [
       "   user_id                                             actual  \\\n",
       "0        1  [821867, 834484, 856942, 865456, 914190, 95804...   \n",
       "1        3  [851057, 872021, 878302, 879948, 909638, 91320...   \n",
       "2        6  [920308, 926804, 1017061, 1078346, 1120741, 82...   \n",
       "3        7  [840386, 889774, 898068, 909714, 953476, 97699...   \n",
       "4        8  [835098, 872137, 910439, 924610, 1041259, 5569...   \n",
       "5        9  [864335, 1029743, 9297474, 889692, 919427, 995...   \n",
       "6       13  [6534178, 840361, 862070, 884897, 920308, 9504...   \n",
       "7       14  [840601, 933067, 951590, 952408, 965693, 98176...   \n",
       "8       15  [910439, 1082185, 959076, 1023958, 1082310, 82...   \n",
       "9       16                                 [1062973, 1082185]   \n",
       "\n",
       "                                    pyspark_alt  \\\n",
       "0    [1082185, 1029743, 981760, 995242, 862349]   \n",
       "1   [1029743, 1106523, 1082185, 951590, 883404]   \n",
       "2   [1082185, 1026118, 1051516, 854852, 878996]   \n",
       "3   [1082185, 1029743, 995242, 1106523, 981760]   \n",
       "4   [1082185, 1029743, 1106523, 981760, 883404]   \n",
       "5  [1082185, 1029743, 995242, 1106523, 6534178]   \n",
       "6  [1082185, 1029743, 1404121, 981760, 1106523]   \n",
       "7   [1082185, 1029743, 1106523, 981760, 995242]   \n",
       "8   [1082185, 1029743, 995242, 1106523, 981760]   \n",
       "9  [1082185, 6534178, 1029743, 995242, 1106523]   \n",
       "\n",
       "                                  implicit_als  \n",
       "0  [1033142, 995242, 1029743, 5569374, 979707]  \n",
       "1  [5568378, 965766, 5569327, 1106523, 951590]  \n",
       "2  [1051516, 1007195, 866211, 923746, 1024306]  \n",
       "3  [1133018, 938700, 1082185, 1058997, 826249]  \n",
       "4   [1053690, 938700, 1004906, 930917, 913785]  \n",
       "5   [1082185, 1029743, 995242, 981760, 849843]  \n",
       "6   [859075, 918335, 999714, 1106523, 5568378]  \n",
       "7    [844165, 951590, 826249, 965766, 6534178]  \n",
       "8  [1082185, 1127831, 878996, 981760, 1029743]  \n",
       "9  [1082185, 6534178, 981760, 995242, 1029743]  "
      ]
     },
     "execution_count": 34,
     "metadata": {},
     "output_type": "execute_result"
    }
   ],
   "source": [
    "%%time\n",
    "    \n",
    "result['implicit_als'] = result['user_id'].map(lambda x: get_recommendations(x, model_als, sparse_user_item, N=5))\n",
    "result.head(10)"
   ]
  },
  {
   "cell_type": "code",
   "execution_count": 35,
   "id": "ab0ea2a3-6b71-4da3-b486-678bbd827ec9",
   "metadata": {},
   "outputs": [
    {
     "name": "stdout",
     "output_type": "stream",
     "text": [
      "Значение метрики precision@5 для ALS implicit: 0.18419452887537752\n",
      "Значение метрики map@5 для ALS implicit: 31.32176629517061\n"
     ]
    }
   ],
   "source": [
    "print(f\"Значение метрики precision@5 для ALS implicit: {result.apply(lambda row: precision_at_k(row['implicit_als'], row['actual']), axis=1).mean()}\")\n",
    "print(f\"Значение метрики map@5 для ALS implicit: {result.apply(lambda row: ap_k(row['implicit_als'], row['actual']), axis=1).mean() * 100}\")"
   ]
  },
  {
   "cell_type": "code",
   "execution_count": 36,
   "id": "8cbf093e-cc35-4923-b09f-d1940b12c33b",
   "metadata": {},
   "outputs": [
    {
     "name": "stdout",
     "output_type": "stream",
     "text": [
      "Значение метрики precision@5 для ALS pyspark: 0.22684903748733218\n",
      "Значение метрики map@5 для ALS pyspark: 43.832953394123855\n"
     ]
    }
   ],
   "source": [
    "print(f\"Значение метрики precision@5 для ALS pyspark: {result.apply(lambda row: precision_at_k(row['pyspark_alt'], row['actual']), axis=1).mean()}\")\n",
    "print(f\"Значение метрики map@5 для ALS pyspark: {result.apply(lambda row: ap_k(row['pyspark_alt'], row['actual']), axis=1).mean() * 100}\")"
   ]
  },
  {
   "cell_type": "markdown",
   "id": "ca1e6114-8059-4e60-9a6e-1c0b0b1818da",
   "metadata": {},
   "source": [
    "__Вывод:__  \n",
    "Сравнив метрики map@5, precision@5 можно сделать вывод, что ALS в pyspark показал себя лучше precision@5 больше на 0.04, а map@5 на 12,5 по сравнению с ALS в implicit."
   ]
  },
  {
   "cell_type": "code",
   "execution_count": null,
   "id": "462584f4-fe6d-4ac2-b061-f8010d3f20b2",
   "metadata": {},
   "outputs": [],
   "source": []
  }
 ],
 "metadata": {
  "kernelspec": {
   "display_name": "Python 3 (ipykernel)",
   "language": "python",
   "name": "python3"
  },
  "language_info": {
   "codemirror_mode": {
    "name": "ipython",
    "version": 3
   },
   "file_extension": ".py",
   "mimetype": "text/x-python",
   "name": "python",
   "nbconvert_exporter": "python",
   "pygments_lexer": "ipython3",
   "version": "3.9.12"
  }
 },
 "nbformat": 4,
 "nbformat_minor": 5
}
